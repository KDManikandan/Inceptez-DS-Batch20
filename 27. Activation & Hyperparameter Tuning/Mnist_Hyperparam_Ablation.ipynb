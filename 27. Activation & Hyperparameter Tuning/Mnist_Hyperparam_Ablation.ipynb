{
  "nbformat": 4,
  "nbformat_minor": 0,
  "metadata": {
    "colab": {
      "provenance": [],
      "gpuType": "T4"
    },
    "kernelspec": {
      "name": "python3",
      "display_name": "Python 3"
    },
    "language_info": {
      "name": "python"
    },
    "accelerator": "GPU"
  },
  "cells": [
    {
      "cell_type": "code",
      "execution_count": null,
      "metadata": {
        "id": "K2pj2-REG_Lz"
      },
      "outputs": [],
      "source": [
        "import matplotlib.pyplot as plt\n",
        "\n",
        "from tensorflow import keras\n",
        "from keras.datasets import mnist\n",
        "from keras.models import Sequential"
      ]
    },
    {
      "cell_type": "code",
      "source": [
        "(x_train,y_train), (x_test,y_test) = mnist.load_data()"
      ],
      "metadata": {
        "colab": {
          "base_uri": "https://localhost:8080/"
        },
        "id": "uZT63LpcHhGe",
        "outputId": "013817c1-5213-425e-e70d-34c65a5af370"
      },
      "execution_count": null,
      "outputs": [
        {
          "output_type": "stream",
          "name": "stdout",
          "text": [
            "Downloading data from https://storage.googleapis.com/tensorflow/tf-keras-datasets/mnist.npz\n",
            "11490434/11490434 [==============================] - 2s 0us/step\n"
          ]
        }
      ]
    },
    {
      "cell_type": "code",
      "source": [
        "plt.imshow(x_train[9],cmap = 'gray')"
      ],
      "metadata": {
        "colab": {
          "base_uri": "https://localhost:8080/",
          "height": 448
        },
        "id": "Vr0F9PGNHo08",
        "outputId": "e57c1f23-3cef-4456-d8f4-c969c7374f3b"
      },
      "execution_count": null,
      "outputs": [
        {
          "output_type": "execute_result",
          "data": {
            "text/plain": [
              "<matplotlib.image.AxesImage at 0x78b64e23d6f0>"
            ]
          },
          "metadata": {},
          "execution_count": 3
        },
        {
          "output_type": "display_data",
          "data": {
            "text/plain": [
              "<Figure size 640x480 with 1 Axes>"
            ],
            "image/png": "[encoded data removed]"
          },
          "metadata": {}
        }
      ]
    },
    {
      "cell_type": "code",
      "source": [
        "x_train.shape"
      ],
      "metadata": {
        "colab": {
          "base_uri": "https://localhost:8080/"
        },
        "id": "KyqabrS_Htdz",
        "outputId": "8554e0df-4515-4d7d-b6da-83018bd11d98"
      },
      "execution_count": null,
      "outputs": [
        {
          "output_type": "execute_result",
          "data": {
            "text/plain": [
              "(60000, 28, 28)"
            ]
          },
          "metadata": {},
          "execution_count": 4
        }
      ]
    },
    {
      "cell_type": "code",
      "source": [
        "x_train = x_train.reshape(x_train.shape[0],-1)\n",
        "x_test = x_test.reshape(x_test.shape[0],-1)"
      ],
      "metadata": {
        "id": "jsP2CI9QH0LY"
      },
      "execution_count": null,
      "outputs": []
    },
    {
      "cell_type": "code",
      "source": [
        "x_train.shape"
      ],
      "metadata": {
        "colab": {
          "base_uri": "https://localhost:8080/"
        },
        "id": "ZyiPE-FWH0H_",
        "outputId": "8c1249d3-b60b-4752-e134-dab36dc29a87"
      },
      "execution_count": null,
      "outputs": [
        {
          "output_type": "execute_result",
          "data": {
            "text/plain": [
              "(60000, 784)"
            ]
          },
          "metadata": {},
          "execution_count": 6
        }
      ]
    },
    {
      "cell_type": "code",
      "source": [
        "from keras.utils.np_utils import to_categorical"
      ],
      "metadata": {
        "id": "3lpcK7HqIH3m"
      },
      "execution_count": null,
      "outputs": []
    },
    {
      "cell_type": "code",
      "source": [
        "y_train = to_categorical(y_train)\n",
        "y_test = to_categorical(y_test)"
      ],
      "metadata": {
        "id": "Urap-07uIHve"
      },
      "execution_count": null,
      "outputs": []
    },
    {
      "cell_type": "code",
      "source": [
        "#Sequential - Framework - Skeleton\n",
        "#Define layers - Hidden layers - Activation for each layers\n",
        "#Output layer - reg: No act, classification: act"
      ],
      "metadata": {
        "id": "6Q-SBz5sIHsY"
      },
      "execution_count": null,
      "outputs": []
    },
    {
      "cell_type": "code",
      "source": [
        "from keras.layers import Dense, Activation\n",
        "from keras import optimizers, losses"
      ],
      "metadata": {
        "id": "vfdeinD_IHpQ"
      },
      "execution_count": null,
      "outputs": []
    },
    {
      "cell_type": "code",
      "source": [
        "model = Sequential()\n",
        "model.add(Dense(10,input_shape= (x_train.shape[1],),activation = 'linear'))\n",
        "model.add(Dense(10,activation = 'linear'))\n",
        "model.add(Dense(10,activation = 'softmax'))"
      ],
      "metadata": {
        "id": "_7MoTSlPIozY"
      },
      "execution_count": null,
      "outputs": []
    },
    {
      "cell_type": "code",
      "source": [
        "#i/p layer 1 - 784 -> 10 = 784*10\n",
        "#784*10 + 10 = 7850 - Layer I\n",
        "\n",
        "#i/p layer2 - 10 -> 10: 10*10 + 10 = 110\n",
        "\n",
        "#Layer 3: 110\n",
        "\n",
        "#total Params: 7850 + 110 + 110 = 8070"
      ],
      "metadata": {
        "id": "xRSJ8v9tJIAy"
      },
      "execution_count": null,
      "outputs": []
    },
    {
      "cell_type": "code",
      "source": [
        "model.summary()"
      ],
      "metadata": {
        "colab": {
          "base_uri": "https://localhost:8080/"
        },
        "id": "mi9uyUnYJH9J",
        "outputId": "e5e0922f-9ff4-4c30-f4df-36e6c50fe3c0"
      },
      "execution_count": null,
      "outputs": [
        {
          "output_type": "stream",
          "name": "stdout",
          "text": [
            "Model: \"sequential\"\n",
            "_________________________________________________________________\n",
            " Layer (type)                Output Shape              Param #   \n",
            "=================================================================\n",
            " dense (Dense)               (None, 10)                7850      \n",
            "                                                                 \n",
            " dense_1 (Dense)             (None, 10)                110       \n",
            "                                                                 \n",
            " dense_2 (Dense)             (None, 10)                110       \n",
            "                                                                 \n",
            "=================================================================\n",
            "Total params: 8,070\n",
            "Trainable params: 8,070\n",
            "Non-trainable params: 0\n",
            "_________________________________________________________________\n"
          ]
        }
      ]
    },
    {
      "cell_type": "code",
      "source": [
        "import tensorflow as tf\n",
        "sgd = tf.keras.optimizers.SGD()\n",
        "losses = losses.categorical_crossentropy\n",
        "model.compile(optimizer = sgd,loss =losses, metrics = ['accuracy'])"
      ],
      "metadata": {
        "id": "Q1LCkepwJH6B"
      },
      "execution_count": null,
      "outputs": []
    },
    {
      "cell_type": "code",
      "source": [
        "history = model.fit(x_train,y_train,batch_size = 100,epochs = 30,validation_split = 0.3,verbose = 1)"
      ],
      "metadata": {
        "colab": {
          "base_uri": "https://localhost:8080/"
        },
        "id": "R5tULEujJH2p",
        "outputId": "5a2873c8-ee58-49ef-af82-3cb67c9efaed"
      },
      "execution_count": null,
      "outputs": [
        {
          "output_type": "stream",
          "name": "stdout",
          "text": [
            "Epoch 1/30\n",
            "420/420 [==============================] - 13s 12ms/step - loss: nan - accuracy: 0.0984 - val_loss: nan - val_accuracy: 0.0989\n",
            "Epoch 2/30\n",
            "420/420 [==============================] - 3s 7ms/step - loss: nan - accuracy: 0.0986 - val_loss: nan - val_accuracy: 0.0989\n",
            "Epoch 3/30\n",
            "420/420 [==============================] - 1s 3ms/step - loss: nan - accuracy: 0.0986 - val_loss: nan - val_accuracy: 0.0989\n",
            "Epoch 4/30\n",
            "420/420 [==============================] - 1s 3ms/step - loss: nan - accuracy: 0.0986 - val_loss: nan - val_accuracy: 0.0989\n",
            "Epoch 5/30\n",
            "420/420 [==============================] - 2s 5ms/step - loss: nan - accuracy: 0.0986 - val_loss: nan - val_accuracy: 0.0989\n",
            "Epoch 6/30\n",
            "420/420 [==============================] - 1s 3ms/step - loss: nan - accuracy: 0.0986 - val_loss: nan - val_accuracy: 0.0989\n",
            "Epoch 7/30\n",
            "420/420 [==============================] - 1s 3ms/step - loss: nan - accuracy: 0.0986 - val_loss: nan - val_accuracy: 0.0989\n",
            "Epoch 8/30\n",
            "420/420 [==============================] - 1s 3ms/step - loss: nan - accuracy: 0.0986 - val_loss: nan - val_accuracy: 0.0989\n",
            "Epoch 9/30\n",
            "420/420 [==============================] - 1s 3ms/step - loss: nan - accuracy: 0.0986 - val_loss: nan - val_accuracy: 0.0989\n",
            "Epoch 10/30\n",
            "420/420 [==============================] - 1s 3ms/step - loss: nan - accuracy: 0.0986 - val_loss: nan - val_accuracy: 0.0989\n",
            "Epoch 11/30\n",
            "420/420 [==============================] - 1s 3ms/step - loss: nan - accuracy: 0.0986 - val_loss: nan - val_accuracy: 0.0989\n",
            "Epoch 12/30\n",
            "420/420 [==============================] - 2s 4ms/step - loss: nan - accuracy: 0.0986 - val_loss: nan - val_accuracy: 0.0989\n",
            "Epoch 13/30\n",
            "420/420 [==============================] - 3s 7ms/step - loss: nan - accuracy: 0.0986 - val_loss: nan - val_accuracy: 0.0989\n",
            "Epoch 14/30\n",
            "420/420 [==============================] - 2s 6ms/step - loss: nan - accuracy: 0.0986 - val_loss: nan - val_accuracy: 0.0989\n",
            "Epoch 15/30\n",
            "420/420 [==============================] - 3s 7ms/step - loss: nan - accuracy: 0.0986 - val_loss: nan - val_accuracy: 0.0989\n",
            "Epoch 16/30\n",
            "420/420 [==============================] - 2s 6ms/step - loss: nan - accuracy: 0.0986 - val_loss: nan - val_accuracy: 0.0989\n",
            "Epoch 17/30\n",
            "420/420 [==============================] - 2s 4ms/step - loss: nan - accuracy: 0.0986 - val_loss: nan - val_accuracy: 0.0989\n",
            "Epoch 18/30\n",
            "420/420 [==============================] - 2s 5ms/step - loss: nan - accuracy: 0.0986 - val_loss: nan - val_accuracy: 0.0989\n",
            "Epoch 19/30\n",
            "420/420 [==============================] - 2s 5ms/step - loss: nan - accuracy: 0.0986 - val_loss: nan - val_accuracy: 0.0989\n",
            "Epoch 20/30\n",
            "420/420 [==============================] - 1s 3ms/step - loss: nan - accuracy: 0.0986 - val_loss: nan - val_accuracy: 0.0989\n",
            "Epoch 21/30\n",
            "420/420 [==============================] - 1s 3ms/step - loss: nan - accuracy: 0.0986 - val_loss: nan - val_accuracy: 0.0989\n",
            "Epoch 22/30\n",
            "420/420 [==============================] - 1s 3ms/step - loss: nan - accuracy: 0.0986 - val_loss: nan - val_accuracy: 0.0989\n",
            "Epoch 23/30\n",
            "420/420 [==============================] - 2s 4ms/step - loss: nan - accuracy: 0.0986 - val_loss: nan - val_accuracy: 0.0989\n",
            "Epoch 24/30\n",
            "420/420 [==============================] - 3s 7ms/step - loss: nan - accuracy: 0.0986 - val_loss: nan - val_accuracy: 0.0989\n",
            "Epoch 25/30\n",
            "420/420 [==============================] - 2s 5ms/step - loss: nan - accuracy: 0.0986 - val_loss: nan - val_accuracy: 0.0989\n",
            "Epoch 26/30\n",
            "420/420 [==============================] - 1s 3ms/step - loss: nan - accuracy: 0.0986 - val_loss: nan - val_accuracy: 0.0989\n",
            "Epoch 27/30\n",
            "420/420 [==============================] - 2s 4ms/step - loss: nan - accuracy: 0.0986 - val_loss: nan - val_accuracy: 0.0989\n",
            "Epoch 28/30\n",
            "420/420 [==============================] - 2s 5ms/step - loss: nan - accuracy: 0.0986 - val_loss: nan - val_accuracy: 0.0989\n",
            "Epoch 29/30\n",
            "420/420 [==============================] - 2s 5ms/step - loss: nan - accuracy: 0.0986 - val_loss: nan - val_accuracy: 0.0989\n",
            "Epoch 30/30\n",
            "420/420 [==============================] - 3s 8ms/step - loss: nan - accuracy: 0.0986 - val_loss: nan - val_accuracy: 0.0989\n"
          ]
        }
      ]
    },
    {
      "cell_type": "code",
      "source": [
        "from keras.layers import Dense, Activation\n",
        "from keras import optimizers, losses"
      ],
      "metadata": {
        "id": "M5282ulnNnlc"
      },
      "execution_count": null,
      "outputs": []
    },
    {
      "cell_type": "code",
      "source": [
        "model = Sequential()\n",
        "model.add(Dense(10,input_shape= (x_train.shape[1],),activation = 'sigmoid'))\n",
        "model.add(Dense(10,activation = 'sigmoid'))\n",
        "model.add(Dense(10,activation = 'softmax'))"
      ],
      "metadata": {
        "id": "YbwHHvUXJHw7"
      },
      "execution_count": null,
      "outputs": []
    },
    {
      "cell_type": "code",
      "source": [
        "import tensorflow as tf\n",
        "sgd = tf.keras.optimizers.SGD()\n",
        "lossess = losses.categorical_crossentropy\n",
        "model.compile(optimizer = sgd,loss =lossess, metrics = ['accuracy'])"
      ],
      "metadata": {
        "id": "MDQtqEQsIov_"
      },
      "execution_count": null,
      "outputs": []
    },
    {
      "cell_type": "code",
      "source": [
        "history = model.fit(x_train,y_train,batch_size = 100,epochs = 30,validation_split = 0.3,verbose = 1)"
      ],
      "metadata": {
        "colab": {
          "base_uri": "https://localhost:8080/"
        },
        "id": "EWRuBtUTIots",
        "outputId": "22109b85-3676-41a3-88a0-fad4951489fa"
      },
      "execution_count": null,
      "outputs": [
        {
          "output_type": "stream",
          "name": "stdout",
          "text": [
            "Epoch 1/30\n",
            "420/420 [==============================] - 2s 4ms/step - loss: 2.2286 - accuracy: 0.2348 - val_loss: 2.1395 - val_accuracy: 0.3877\n",
            "Epoch 2/30\n",
            "420/420 [==============================] - 1s 3ms/step - loss: 2.0839 - accuracy: 0.4260 - val_loss: 2.0271 - val_accuracy: 0.4481\n",
            "Epoch 3/30\n",
            "420/420 [==============================] - 1s 3ms/step - loss: 1.9742 - accuracy: 0.4825 - val_loss: 1.9211 - val_accuracy: 0.5109\n",
            "Epoch 4/30\n",
            "420/420 [==============================] - 1s 3ms/step - loss: 1.8677 - accuracy: 0.5326 - val_loss: 1.8184 - val_accuracy: 0.5194\n",
            "Epoch 5/30\n",
            "420/420 [==============================] - 2s 5ms/step - loss: 1.7666 - accuracy: 0.5812 - val_loss: 1.7143 - val_accuracy: 0.6006\n",
            "Epoch 6/30\n",
            "420/420 [==============================] - 2s 4ms/step - loss: 1.6666 - accuracy: 0.6163 - val_loss: 1.6188 - val_accuracy: 0.6270\n",
            "Epoch 7/30\n",
            "420/420 [==============================] - 1s 3ms/step - loss: 1.5742 - accuracy: 0.6496 - val_loss: 1.5312 - val_accuracy: 0.6616\n",
            "Epoch 8/30\n",
            "420/420 [==============================] - 1s 3ms/step - loss: 1.4879 - accuracy: 0.6690 - val_loss: 1.4461 - val_accuracy: 0.6753\n",
            "Epoch 9/30\n",
            "420/420 [==============================] - 1s 3ms/step - loss: 1.4063 - accuracy: 0.6922 - val_loss: 1.3663 - val_accuracy: 0.7067\n",
            "Epoch 10/30\n",
            "420/420 [==============================] - 1s 3ms/step - loss: 1.3316 - accuracy: 0.7144 - val_loss: 1.2942 - val_accuracy: 0.7541\n",
            "Epoch 11/30\n",
            "420/420 [==============================] - 1s 3ms/step - loss: 1.2629 - accuracy: 0.7560 - val_loss: 1.2312 - val_accuracy: 0.7905\n",
            "Epoch 12/30\n",
            "420/420 [==============================] - 1s 3ms/step - loss: 1.2030 - accuracy: 0.7806 - val_loss: 1.1842 - val_accuracy: 0.7739\n",
            "Epoch 13/30\n",
            "420/420 [==============================] - 2s 5ms/step - loss: 1.1475 - accuracy: 0.7857 - val_loss: 1.1252 - val_accuracy: 0.8022\n",
            "Epoch 14/30\n",
            "420/420 [==============================] - 1s 3ms/step - loss: 1.0953 - accuracy: 0.7955 - val_loss: 1.0865 - val_accuracy: 0.7802\n",
            "Epoch 15/30\n",
            "420/420 [==============================] - 1s 3ms/step - loss: 1.0567 - accuracy: 0.7971 - val_loss: 1.0426 - val_accuracy: 0.8057\n",
            "Epoch 16/30\n",
            "420/420 [==============================] - 1s 3ms/step - loss: 1.0081 - accuracy: 0.8138 - val_loss: 0.9770 - val_accuracy: 0.8204\n",
            "Epoch 17/30\n",
            "420/420 [==============================] - 1s 3ms/step - loss: 0.9683 - accuracy: 0.8121 - val_loss: 0.9523 - val_accuracy: 0.8155\n",
            "Epoch 18/30\n",
            "420/420 [==============================] - 1s 3ms/step - loss: 0.9359 - accuracy: 0.8140 - val_loss: 0.9182 - val_accuracy: 0.8294\n",
            "Epoch 19/30\n",
            "420/420 [==============================] - 1s 3ms/step - loss: 0.9049 - accuracy: 0.8233 - val_loss: 0.9039 - val_accuracy: 0.8150\n",
            "Epoch 20/30\n",
            "420/420 [==============================] - 1s 3ms/step - loss: 0.8778 - accuracy: 0.8240 - val_loss: 0.8592 - val_accuracy: 0.8296\n",
            "Epoch 21/30\n",
            "420/420 [==============================] - 2s 5ms/step - loss: 0.8533 - accuracy: 0.8258 - val_loss: 0.8505 - val_accuracy: 0.8113\n",
            "Epoch 22/30\n",
            "420/420 [==============================] - 2s 4ms/step - loss: 0.8318 - accuracy: 0.8294 - val_loss: 0.8202 - val_accuracy: 0.8216\n",
            "Epoch 23/30\n",
            "420/420 [==============================] - 1s 3ms/step - loss: 0.8085 - accuracy: 0.8312 - val_loss: 0.7905 - val_accuracy: 0.8309\n",
            "Epoch 24/30\n",
            "420/420 [==============================] - 2s 4ms/step - loss: 0.7928 - accuracy: 0.8323 - val_loss: 0.7697 - val_accuracy: 0.8408\n",
            "Epoch 25/30\n",
            "420/420 [==============================] - 1s 4ms/step - loss: 0.7679 - accuracy: 0.8350 - val_loss: 0.7567 - val_accuracy: 0.8429\n",
            "Epoch 26/30\n",
            "420/420 [==============================] - 1s 3ms/step - loss: 0.7553 - accuracy: 0.8366 - val_loss: 0.7326 - val_accuracy: 0.8483\n",
            "Epoch 27/30\n",
            "420/420 [==============================] - 1s 3ms/step - loss: 0.7399 - accuracy: 0.8387 - val_loss: 0.7356 - val_accuracy: 0.8378\n",
            "Epoch 28/30\n",
            "420/420 [==============================] - 1s 4ms/step - loss: 0.7213 - accuracy: 0.8401 - val_loss: 0.7009 - val_accuracy: 0.8519\n",
            "Epoch 29/30\n",
            "420/420 [==============================] - 2s 6ms/step - loss: 0.7054 - accuracy: 0.8445 - val_loss: 0.6922 - val_accuracy: 0.8521\n",
            "Epoch 30/30\n",
            "420/420 [==============================] - 1s 3ms/step - loss: 0.6864 - accuracy: 0.8487 - val_loss: 0.6676 - val_accuracy: 0.8508\n"
          ]
        }
      ]
    },
    {
      "cell_type": "code",
      "source": [
        "plt.plot(history.history['accuracy'])\n",
        "plt.plot(history.history['val_accuracy'])\n",
        "plt.legend(['training','validation'])\n",
        "plt.show()"
      ],
      "metadata": {
        "colab": {
          "base_uri": "https://localhost:8080/",
          "height": 430
        },
        "id": "dTz49l_mIoqp",
        "outputId": "c386721f-3bf5-4ce8-8120-a41d9d111716"
      },
      "execution_count": null,
      "outputs": [
        {
          "output_type": "display_data",
          "data": {
            "text/plain": [
              "<Figure size 640x480 with 1 Axes>"
            ],
            "image/png": "[encoded data removed]"
          },
          "metadata": {}
        }
      ]
    },
    {
      "cell_type": "code",
      "source": [],
      "metadata": {
        "id": "rAfUEljQIonb"
      },
      "execution_count": null,
      "outputs": []
    },
    {
      "cell_type": "code",
      "source": [
        "model = Sequential()\n",
        "model.add(Dense(10,input_shape= (x_train.shape[1],),kernel_initializer = 'he_normal',activation = 'sigmoid'))\n",
        "model.add(Dense(10,activation = 'sigmoid'))\n",
        "model.add(Dense(10,activation = 'softmax'))"
      ],
      "metadata": {
        "id": "yG3HbjI_OBbe"
      },
      "execution_count": null,
      "outputs": []
    },
    {
      "cell_type": "code",
      "source": [
        "import tensorflow as tf\n",
        "sgd = tf.keras.optimizers.SGD()\n",
        "lossess = losses.categorical_crossentropy\n",
        "model.compile(optimizer = sgd,loss =lossess, metrics = ['accuracy'])"
      ],
      "metadata": {
        "id": "yNCyVjZtOBbf"
      },
      "execution_count": null,
      "outputs": []
    },
    {
      "cell_type": "code",
      "source": [
        "history = model.fit(x_train,y_train,batch_size = 100,epochs = 30,validation_split = 0.3,verbose = 1)"
      ],
      "metadata": {
        "colab": {
          "base_uri": "https://localhost:8080/"
        },
        "outputId": "09dadc02-20db-4642-ad48-ae31f0905b10",
        "id": "RFJ7WhgvOBbf"
      },
      "execution_count": null,
      "outputs": [
        {
          "output_type": "stream",
          "name": "stdout",
          "text": [
            "Epoch 1/30\n",
            "420/420 [==============================] - 3s 6ms/step - loss: 2.2814 - accuracy: 0.1677 - val_loss: 2.2022 - val_accuracy: 0.2836\n",
            "Epoch 2/30\n",
            "420/420 [==============================] - 1s 3ms/step - loss: 2.1640 - accuracy: 0.4005 - val_loss: 2.1246 - val_accuracy: 0.5212\n",
            "Epoch 3/30\n",
            "420/420 [==============================] - 1s 3ms/step - loss: 2.0909 - accuracy: 0.5215 - val_loss: 2.0478 - val_accuracy: 0.5436\n",
            "Epoch 4/30\n",
            "420/420 [==============================] - 1s 3ms/step - loss: 2.0113 - accuracy: 0.5564 - val_loss: 1.9647 - val_accuracy: 0.5726\n",
            "Epoch 5/30\n",
            "420/420 [==============================] - 1s 3ms/step - loss: 1.9225 - accuracy: 0.5785 - val_loss: 1.8711 - val_accuracy: 0.5941\n",
            "Epoch 6/30\n",
            "420/420 [==============================] - 2s 5ms/step - loss: 1.8272 - accuracy: 0.5955 - val_loss: 1.7750 - val_accuracy: 0.6019\n",
            "Epoch 7/30\n",
            "420/420 [==============================] - 2s 4ms/step - loss: 1.7333 - accuracy: 0.6153 - val_loss: 1.6806 - val_accuracy: 0.6384\n",
            "Epoch 8/30\n",
            "420/420 [==============================] - 1s 3ms/step - loss: 1.6445 - accuracy: 0.6264 - val_loss: 1.6000 - val_accuracy: 0.6342\n",
            "Epoch 9/30\n",
            "420/420 [==============================] - 2s 4ms/step - loss: 1.5584 - accuracy: 0.6382 - val_loss: 1.5141 - val_accuracy: 0.6483\n",
            "Epoch 10/30\n",
            "420/420 [==============================] - 1s 3ms/step - loss: 1.4818 - accuracy: 0.6509 - val_loss: 1.4419 - val_accuracy: 0.6663\n",
            "Epoch 11/30\n",
            "420/420 [==============================] - 1s 3ms/step - loss: 1.4109 - accuracy: 0.6626 - val_loss: 1.3700 - val_accuracy: 0.6793\n",
            "Epoch 12/30\n",
            "420/420 [==============================] - 1s 3ms/step - loss: 1.3479 - accuracy: 0.6741 - val_loss: 1.3141 - val_accuracy: 0.6778\n",
            "Epoch 13/30\n",
            "420/420 [==============================] - 2s 4ms/step - loss: 1.2885 - accuracy: 0.6980 - val_loss: 1.2549 - val_accuracy: 0.6946\n",
            "Epoch 14/30\n",
            "420/420 [==============================] - 2s 5ms/step - loss: 1.2365 - accuracy: 0.7211 - val_loss: 1.2052 - val_accuracy: 0.7378\n",
            "Epoch 15/30\n",
            "420/420 [==============================] - 1s 3ms/step - loss: 1.1876 - accuracy: 0.7435 - val_loss: 1.1717 - val_accuracy: 0.7538\n",
            "Epoch 16/30\n",
            "420/420 [==============================] - 2s 4ms/step - loss: 1.1449 - accuracy: 0.7588 - val_loss: 1.1208 - val_accuracy: 0.7707\n",
            "Epoch 17/30\n",
            "420/420 [==============================] - 2s 4ms/step - loss: 1.0982 - accuracy: 0.7698 - val_loss: 1.0765 - val_accuracy: 0.7674\n",
            "Epoch 18/30\n",
            "420/420 [==============================] - 2s 4ms/step - loss: 1.0619 - accuracy: 0.7716 - val_loss: 1.0424 - val_accuracy: 0.7814\n",
            "Epoch 19/30\n",
            "420/420 [==============================] - 1s 4ms/step - loss: 1.0235 - accuracy: 0.7808 - val_loss: 0.9986 - val_accuracy: 0.7986\n",
            "Epoch 20/30\n",
            "420/420 [==============================] - 1s 3ms/step - loss: 0.9922 - accuracy: 0.7913 - val_loss: 0.9676 - val_accuracy: 0.7956\n",
            "Epoch 21/30\n",
            "420/420 [==============================] - 2s 5ms/step - loss: 0.9646 - accuracy: 0.7910 - val_loss: 0.9337 - val_accuracy: 0.8029\n",
            "Epoch 22/30\n",
            "420/420 [==============================] - 2s 4ms/step - loss: 0.9363 - accuracy: 0.7926 - val_loss: 0.9098 - val_accuracy: 0.7979\n",
            "Epoch 23/30\n",
            "420/420 [==============================] - 1s 3ms/step - loss: 0.9104 - accuracy: 0.8005 - val_loss: 0.8891 - val_accuracy: 0.8111\n",
            "Epoch 24/30\n",
            "420/420 [==============================] - 1s 3ms/step - loss: 0.8862 - accuracy: 0.8086 - val_loss: 0.8688 - val_accuracy: 0.8137\n",
            "Epoch 25/30\n",
            "420/420 [==============================] - 1s 3ms/step - loss: 0.8627 - accuracy: 0.8137 - val_loss: 0.8582 - val_accuracy: 0.8093\n",
            "Epoch 26/30\n",
            "420/420 [==============================] - 2s 4ms/step - loss: 0.8415 - accuracy: 0.8105 - val_loss: 0.8295 - val_accuracy: 0.8118\n",
            "Epoch 27/30\n",
            "420/420 [==============================] - 1s 3ms/step - loss: 0.8322 - accuracy: 0.8080 - val_loss: 0.8237 - val_accuracy: 0.8118\n",
            "Epoch 28/30\n",
            "420/420 [==============================] - 2s 4ms/step - loss: 0.8085 - accuracy: 0.8154 - val_loss: 0.7939 - val_accuracy: 0.8135\n",
            "Epoch 29/30\n",
            "420/420 [==============================] - 2s 5ms/step - loss: 0.7900 - accuracy: 0.8188 - val_loss: 0.7697 - val_accuracy: 0.8159\n",
            "Epoch 30/30\n",
            "420/420 [==============================] - 1s 3ms/step - loss: 0.7743 - accuracy: 0.8183 - val_loss: 0.7507 - val_accuracy: 0.8258\n"
          ]
        }
      ]
    },
    {
      "cell_type": "code",
      "source": [
        "plt.plot(history.history['accuracy'])\n",
        "plt.plot(history.history['val_accuracy'])\n",
        "plt.legend(['training','validation'])\n",
        "plt.show()"
      ],
      "metadata": {
        "colab": {
          "base_uri": "https://localhost:8080/",
          "height": 430
        },
        "outputId": "aa439412-7f75-4115-f760-d05995fdb991",
        "id": "-X6vgbgfOBbg"
      },
      "execution_count": null,
      "outputs": [
        {
          "output_type": "display_data",
          "data": {
            "text/plain": [
              "<Figure size 640x480 with 1 Axes>"
            ],
            "image/png": "[encoded data removed]"
          },
          "metadata": {}
        }
      ]
    },
    {
      "cell_type": "code",
      "source": [
        "model = Sequential()\n",
        "model.add(Dense(10,input_shape= (x_train.shape[1],),activation = 'sigmoid'))\n",
        "model.add(Dense(10,activation = 'relu'))\n",
        "model.add(Dense(10,activation = 'softmax'))"
      ],
      "metadata": {
        "id": "WBGmA5xcOMV8"
      },
      "execution_count": null,
      "outputs": []
    },
    {
      "cell_type": "code",
      "source": [
        "import tensorflow as tf\n",
        "sgd = tf.keras.optimizers.SGD()\n",
        "lossess = losses.categorical_crossentropy\n",
        "model.compile(optimizer = sgd,loss =lossess, metrics = ['accuracy'])"
      ],
      "metadata": {
        "id": "4nXzlrc_OzPu"
      },
      "execution_count": null,
      "outputs": []
    },
    {
      "cell_type": "code",
      "source": [
        "history = model.fit(x_train,y_train,batch_size = 100,epochs = 30,validation_split = 0.3,verbose = 1)"
      ],
      "metadata": {
        "colab": {
          "base_uri": "https://localhost:8080/"
        },
        "id": "lOYy6g6zO3CQ",
        "outputId": "822b26d1-1f61-4835-df1e-4d7441ffa184"
      },
      "execution_count": null,
      "outputs": [
        {
          "output_type": "stream",
          "name": "stdout",
          "text": [
            "Epoch 1/30\n",
            "420/420 [==============================] - 2s 4ms/step - loss: 2.1067 - accuracy: 0.2564 - val_loss: 1.9180 - val_accuracy: 0.3543\n",
            "Epoch 2/30\n",
            "420/420 [==============================] - 1s 3ms/step - loss: 1.7473 - accuracy: 0.4319 - val_loss: 1.5950 - val_accuracy: 0.4747\n",
            "Epoch 3/30\n",
            "420/420 [==============================] - 2s 4ms/step - loss: 1.4592 - accuracy: 0.5720 - val_loss: 1.3448 - val_accuracy: 0.5942\n",
            "Epoch 4/30\n",
            "420/420 [==============================] - 2s 4ms/step - loss: 1.2476 - accuracy: 0.6369 - val_loss: 1.1628 - val_accuracy: 0.6683\n",
            "Epoch 5/30\n",
            "420/420 [==============================] - 2s 5ms/step - loss: 1.1100 - accuracy: 0.6781 - val_loss: 1.0495 - val_accuracy: 0.6963\n",
            "Epoch 6/30\n",
            "420/420 [==============================] - 1s 3ms/step - loss: 0.9910 - accuracy: 0.7083 - val_loss: 0.9348 - val_accuracy: 0.7252\n",
            "Epoch 7/30\n",
            "420/420 [==============================] - 1s 3ms/step - loss: 0.9007 - accuracy: 0.7351 - val_loss: 0.8667 - val_accuracy: 0.7258\n",
            "Epoch 8/30\n",
            "420/420 [==============================] - 1s 3ms/step - loss: 0.8338 - accuracy: 0.7578 - val_loss: 0.7821 - val_accuracy: 0.7788\n",
            "Epoch 9/30\n",
            "420/420 [==============================] - 1s 3ms/step - loss: 0.7937 - accuracy: 0.7689 - val_loss: 0.7508 - val_accuracy: 0.7989\n",
            "Epoch 10/30\n",
            "420/420 [==============================] - 1s 3ms/step - loss: 0.7591 - accuracy: 0.7739 - val_loss: 0.7366 - val_accuracy: 0.7801\n",
            "Epoch 11/30\n",
            "420/420 [==============================] - 1s 3ms/step - loss: 0.7254 - accuracy: 0.7852 - val_loss: 0.6743 - val_accuracy: 0.8042\n",
            "Epoch 12/30\n",
            "420/420 [==============================] - 2s 4ms/step - loss: 0.7120 - accuracy: 0.7943 - val_loss: 0.6768 - val_accuracy: 0.8042\n",
            "Epoch 13/30\n",
            "420/420 [==============================] - 2s 5ms/step - loss: 0.7082 - accuracy: 0.7893 - val_loss: 0.6573 - val_accuracy: 0.8160\n",
            "Epoch 14/30\n",
            "420/420 [==============================] - 1s 3ms/step - loss: 0.6632 - accuracy: 0.8093 - val_loss: 0.6993 - val_accuracy: 0.7971\n",
            "Epoch 15/30\n",
            "420/420 [==============================] - 1s 3ms/step - loss: 0.6484 - accuracy: 0.8202 - val_loss: 0.6052 - val_accuracy: 0.8374\n",
            "Epoch 16/30\n",
            "420/420 [==============================] - 1s 3ms/step - loss: 0.6413 - accuracy: 0.8211 - val_loss: 0.6506 - val_accuracy: 0.8227\n",
            "Epoch 17/30\n",
            "420/420 [==============================] - 1s 4ms/step - loss: 0.6296 - accuracy: 0.8193 - val_loss: 0.6268 - val_accuracy: 0.8096\n",
            "Epoch 18/30\n",
            "420/420 [==============================] - 1s 3ms/step - loss: 0.6176 - accuracy: 0.8232 - val_loss: 0.5900 - val_accuracy: 0.8360\n",
            "Epoch 19/30\n",
            "420/420 [==============================] - 2s 4ms/step - loss: 0.5997 - accuracy: 0.8322 - val_loss: 0.5812 - val_accuracy: 0.8335\n",
            "Epoch 20/30\n",
            "420/420 [==============================] - 2s 5ms/step - loss: 0.5977 - accuracy: 0.8276 - val_loss: 0.5817 - val_accuracy: 0.8395\n",
            "Epoch 21/30\n",
            "420/420 [==============================] - 2s 4ms/step - loss: 0.5880 - accuracy: 0.8319 - val_loss: 0.5525 - val_accuracy: 0.8502\n",
            "Epoch 22/30\n",
            "420/420 [==============================] - 1s 3ms/step - loss: 0.5727 - accuracy: 0.8390 - val_loss: 0.5749 - val_accuracy: 0.8351\n",
            "Epoch 23/30\n",
            "420/420 [==============================] - 1s 3ms/step - loss: 0.5658 - accuracy: 0.8410 - val_loss: 0.5860 - val_accuracy: 0.8400\n",
            "Epoch 24/30\n",
            "420/420 [==============================] - 1s 3ms/step - loss: 0.5659 - accuracy: 0.8423 - val_loss: 0.5457 - val_accuracy: 0.8549\n",
            "Epoch 25/30\n",
            "420/420 [==============================] - 1s 3ms/step - loss: 0.5417 - accuracy: 0.8500 - val_loss: 0.5334 - val_accuracy: 0.8532\n",
            "Epoch 26/30\n",
            "420/420 [==============================] - 1s 3ms/step - loss: 0.5507 - accuracy: 0.8473 - val_loss: 0.6351 - val_accuracy: 0.8203\n",
            "Epoch 27/30\n",
            "420/420 [==============================] - 1s 3ms/step - loss: 0.5461 - accuracy: 0.8488 - val_loss: 0.5625 - val_accuracy: 0.8427\n",
            "Epoch 28/30\n",
            "420/420 [==============================] - 2s 5ms/step - loss: 0.5440 - accuracy: 0.8474 - val_loss: 0.5377 - val_accuracy: 0.8526\n",
            "Epoch 29/30\n",
            "420/420 [==============================] - 2s 4ms/step - loss: 0.5294 - accuracy: 0.8542 - val_loss: 0.5092 - val_accuracy: 0.8675\n",
            "Epoch 30/30\n",
            "420/420 [==============================] - 1s 3ms/step - loss: 0.5410 - accuracy: 0.8520 - val_loss: 0.5348 - val_accuracy: 0.8479\n"
          ]
        }
      ]
    },
    {
      "cell_type": "code",
      "source": [
        "plt.plot(history.history['accuracy'])\n",
        "plt.plot(history.history['val_accuracy'])\n",
        "plt.legend(['training','validation'])\n",
        "plt.show()"
      ],
      "metadata": {
        "colab": {
          "base_uri": "https://localhost:8080/",
          "height": 430
        },
        "id": "YZQp_h4uOzfh",
        "outputId": "4ba9901e-19bc-4eab-d8b3-d65a1fc26dd7"
      },
      "execution_count": null,
      "outputs": [
        {
          "output_type": "display_data",
          "data": {
            "text/plain": [
              "<Figure size 640x480 with 1 Axes>"
            ],
            "image/png": "[encoded data removed]"
          },
          "metadata": {}
        }
      ]
    },
    {
      "cell_type": "code",
      "source": [
        "model = Sequential()\n",
        "model.add(Dense(64,input_shape= (x_train.shape[1],),activation = 'sigmoid'))\n",
        "model.add(Dense(32,activation = 'relu'))\n",
        "model.add(tf.keras.layers.BatchNormalization(synchronized=True))\n",
        "model.add(Dense(16,activation = 'relu'))\n",
        "model.add(Dense(10,activation = 'softmax'))"
      ],
      "metadata": {
        "id": "IVYNLjq1O06R"
      },
      "execution_count": null,
      "outputs": []
    },
    {
      "cell_type": "code",
      "source": [
        "model.summary()"
      ],
      "metadata": {
        "colab": {
          "base_uri": "https://localhost:8080/"
        },
        "id": "Q0QdBaquPgfT",
        "outputId": "379aadeb-dc40-4abd-e9c7-f0ee46d6e3a1"
      },
      "execution_count": null,
      "outputs": [
        {
          "output_type": "stream",
          "name": "stdout",
          "text": [
            "Model: \"sequential_6\"\n",
            "_________________________________________________________________\n",
            " Layer (type)                Output Shape              Param #   \n",
            "=================================================================\n",
            " dense_18 (Dense)            (None, 64)                50240     \n",
            "                                                                 \n",
            " dense_19 (Dense)            (None, 32)                2080      \n",
            "                                                                 \n",
            " batch_normalization (BatchN  (None, 32)               128       \n",
            " ormalization)                                                   \n",
            "                                                                 \n",
            " dense_20 (Dense)            (None, 16)                528       \n",
            "                                                                 \n",
            " dense_21 (Dense)            (None, 10)                170       \n",
            "                                                                 \n",
            "=================================================================\n",
            "Total params: 53,146\n",
            "Trainable params: 53,082\n",
            "Non-trainable params: 64\n",
            "_________________________________________________________________\n"
          ]
        }
      ]
    },
    {
      "cell_type": "code",
      "source": [
        "import tensorflow as tf\n",
        "sgd = tf.keras.optimizers.SGD()\n",
        "lossess = losses.categorical_crossentropy\n",
        "model.compile(optimizer = sgd,loss =lossess, metrics = ['accuracy'])"
      ],
      "metadata": {
        "id": "WJxoan9_PiPU"
      },
      "execution_count": null,
      "outputs": []
    },
    {
      "cell_type": "code",
      "source": [
        "history = model.fit(x_train,y_train,batch_size = 100,epochs = 30,validation_split = 0.3,verbose = 1)"
      ],
      "metadata": {
        "colab": {
          "base_uri": "https://localhost:8080/"
        },
        "id": "EZmE7XiXPqYr",
        "outputId": "0bb738ed-9165-4913-9ba8-30f1222cde70"
      },
      "execution_count": null,
      "outputs": [
        {
          "output_type": "stream",
          "name": "stdout",
          "text": [
            "Epoch 1/30\n",
            "420/420 [==============================] - 4s 5ms/step - loss: 1.3406 - accuracy: 0.6012 - val_loss: 0.8286 - val_accuracy: 0.7882\n",
            "Epoch 2/30\n",
            "420/420 [==============================] - 3s 6ms/step - loss: 0.6551 - accuracy: 0.8226 - val_loss: 0.5470 - val_accuracy: 0.8363\n",
            "Epoch 3/30\n",
            "420/420 [==============================] - 2s 5ms/step - loss: 0.5078 - accuracy: 0.8487 - val_loss: 0.4931 - val_accuracy: 0.8517\n",
            "Epoch 4/30\n",
            "420/420 [==============================] - 2s 5ms/step - loss: 0.4856 - accuracy: 0.8529 - val_loss: 0.4588 - val_accuracy: 0.8638\n",
            "Epoch 5/30\n",
            "420/420 [==============================] - 2s 6ms/step - loss: 0.4356 - accuracy: 0.8677 - val_loss: 0.4345 - val_accuracy: 0.8699\n",
            "Epoch 6/30\n",
            "420/420 [==============================] - 2s 5ms/step - loss: 0.3976 - accuracy: 0.8794 - val_loss: 0.3831 - val_accuracy: 0.8859\n",
            "Epoch 7/30\n",
            "420/420 [==============================] - 2s 5ms/step - loss: 0.3708 - accuracy: 0.8882 - val_loss: 0.3740 - val_accuracy: 0.8864\n",
            "Epoch 8/30\n",
            "420/420 [==============================] - 2s 6ms/step - loss: 0.3658 - accuracy: 0.8888 - val_loss: 0.3660 - val_accuracy: 0.8879\n",
            "Epoch 9/30\n",
            "420/420 [==============================] - 2s 4ms/step - loss: 0.3552 - accuracy: 0.8920 - val_loss: 0.3995 - val_accuracy: 0.8781\n",
            "Epoch 10/30\n",
            "420/420 [==============================] - 2s 5ms/step - loss: 0.3617 - accuracy: 0.8878 - val_loss: 0.3449 - val_accuracy: 0.8942\n",
            "Epoch 11/30\n",
            "420/420 [==============================] - 2s 4ms/step - loss: 0.3262 - accuracy: 0.9015 - val_loss: 0.3341 - val_accuracy: 0.8977\n",
            "Epoch 12/30\n",
            "420/420 [==============================] - 2s 5ms/step - loss: 0.3233 - accuracy: 0.9009 - val_loss: 0.3248 - val_accuracy: 0.8989\n",
            "Epoch 13/30\n",
            "420/420 [==============================] - 2s 5ms/step - loss: 0.3106 - accuracy: 0.9045 - val_loss: 0.2973 - val_accuracy: 0.9087\n",
            "Epoch 14/30\n",
            "420/420 [==============================] - 3s 6ms/step - loss: 0.2986 - accuracy: 0.9085 - val_loss: 0.2838 - val_accuracy: 0.9157\n",
            "Epoch 15/30\n",
            "420/420 [==============================] - 2s 4ms/step - loss: 0.2822 - accuracy: 0.9149 - val_loss: 0.2915 - val_accuracy: 0.9114\n",
            "Epoch 16/30\n",
            "420/420 [==============================] - 2s 4ms/step - loss: 0.2745 - accuracy: 0.9167 - val_loss: 0.2868 - val_accuracy: 0.9138\n",
            "Epoch 17/30\n",
            "420/420 [==============================] - 2s 4ms/step - loss: 0.2666 - accuracy: 0.9192 - val_loss: 0.2917 - val_accuracy: 0.9086\n",
            "Epoch 18/30\n",
            "420/420 [==============================] - 2s 5ms/step - loss: 0.2674 - accuracy: 0.9195 - val_loss: 0.2677 - val_accuracy: 0.9199\n",
            "Epoch 19/30\n",
            "420/420 [==============================] - 2s 5ms/step - loss: 0.2745 - accuracy: 0.9168 - val_loss: 0.2789 - val_accuracy: 0.9168\n",
            "Epoch 20/30\n",
            "420/420 [==============================] - 3s 6ms/step - loss: 0.2711 - accuracy: 0.9177 - val_loss: 0.2806 - val_accuracy: 0.9141\n",
            "Epoch 21/30\n",
            "420/420 [==============================] - 2s 4ms/step - loss: 0.2516 - accuracy: 0.9224 - val_loss: 0.2826 - val_accuracy: 0.9133\n",
            "Epoch 22/30\n",
            "420/420 [==============================] - 2s 5ms/step - loss: 0.2585 - accuracy: 0.9219 - val_loss: 0.2685 - val_accuracy: 0.9173\n",
            "Epoch 23/30\n",
            "420/420 [==============================] - 2s 5ms/step - loss: 0.2448 - accuracy: 0.9272 - val_loss: 0.2452 - val_accuracy: 0.9267\n",
            "Epoch 24/30\n",
            "420/420 [==============================] - 2s 5ms/step - loss: 0.2341 - accuracy: 0.9303 - val_loss: 0.2435 - val_accuracy: 0.9286\n",
            "Epoch 25/30\n",
            "420/420 [==============================] - 2s 5ms/step - loss: 0.2406 - accuracy: 0.9255 - val_loss: 0.2583 - val_accuracy: 0.9222\n",
            "Epoch 26/30\n",
            "420/420 [==============================] - 3s 7ms/step - loss: 0.2487 - accuracy: 0.9237 - val_loss: 0.2728 - val_accuracy: 0.9163\n",
            "Epoch 27/30\n",
            "420/420 [==============================] - 2s 5ms/step - loss: 0.2391 - accuracy: 0.9248 - val_loss: 0.2566 - val_accuracy: 0.9218\n",
            "Epoch 28/30\n",
            "420/420 [==============================] - 2s 5ms/step - loss: 0.2442 - accuracy: 0.9249 - val_loss: 0.2418 - val_accuracy: 0.9270\n",
            "Epoch 29/30\n",
            "420/420 [==============================] - 2s 4ms/step - loss: 0.2315 - accuracy: 0.9297 - val_loss: 0.2518 - val_accuracy: 0.9236\n",
            "Epoch 30/30\n",
            "420/420 [==============================] - 2s 4ms/step - loss: 0.2362 - accuracy: 0.9282 - val_loss: 0.2493 - val_accuracy: 0.9235\n"
          ]
        }
      ]
    },
    {
      "cell_type": "code",
      "source": [
        "plt.plot(history.history['accuracy'])\n",
        "plt.plot(history.history['val_accuracy'])\n",
        "plt.legend(['training','validation'])\n",
        "plt.show()"
      ],
      "metadata": {
        "colab": {
          "base_uri": "https://localhost:8080/",
          "height": 430
        },
        "id": "Ztrhv2RIPr3_",
        "outputId": "c8522ad1-2445-48dd-f002-2dcf0726dcb6"
      },
      "execution_count": null,
      "outputs": [
        {
          "output_type": "display_data",
          "data": {
            "text/plain": [
              "<Figure size 640x480 with 1 Axes>"
            ],
            "image/png": "[encoded data removed]"
          },
          "metadata": {}
        }
      ]
    },
    {
      "cell_type": "code",
      "source": [
        "model = Sequential()\n",
        "model.add(Dense(64,input_shape= (x_train.shape[1],),activation = 'sigmoid'))\n",
        "model.add(tf.keras.layers.Dropout(.2))\n",
        "model.add(Dense(32,activation = 'relu'))\n",
        "model.add(tf.keras.layers.BatchNormalization(synchronized=True))\n",
        "model.add(Dense(16,activation = 'relu'))\n",
        "model.add(Dense(10,activation = 'softmax'))"
      ],
      "metadata": {
        "id": "7Me41JMtQCxc"
      },
      "execution_count": null,
      "outputs": []
    },
    {
      "cell_type": "code",
      "source": [
        "import tensorflow as tf\n",
        "adam = tf.keras.optimizers.Adam()\n",
        "lossess = losses.categorical_crossentropy\n",
        "model.compile(optimizer = adam,loss =lossess, metrics = ['accuracy'])"
      ],
      "metadata": {
        "id": "1myqZCpMQedi"
      },
      "execution_count": null,
      "outputs": []
    },
    {
      "cell_type": "code",
      "source": [
        "history = model.fit(x_train,y_train,batch_size = 100,epochs = 30,validation_split = 0.3,verbose = 1)"
      ],
      "metadata": {
        "colab": {
          "base_uri": "https://localhost:8080/"
        },
        "id": "wW5PCp3_Qh-n",
        "outputId": "c8cd94c0-1168-4795-df34-beb60dbd1029"
      },
      "execution_count": null,
      "outputs": [
        {
          "output_type": "stream",
          "name": "stdout",
          "text": [
            "Epoch 1/30\n",
            "420/420 [==============================] - 5s 5ms/step - loss: 1.3094 - accuracy: 0.5704 - val_loss: 0.5803 - val_accuracy: 0.8225\n",
            "Epoch 2/30\n",
            "420/420 [==============================] - 2s 5ms/step - loss: 0.6473 - accuracy: 0.7914 - val_loss: 0.4416 - val_accuracy: 0.8633\n",
            "Epoch 3/30\n",
            "420/420 [==============================] - 3s 7ms/step - loss: 0.5472 - accuracy: 0.8256 - val_loss: 0.4098 - val_accuracy: 0.8709\n",
            "Epoch 4/30\n",
            "420/420 [==============================] - 2s 4ms/step - loss: 0.4991 - accuracy: 0.8407 - val_loss: 0.3732 - val_accuracy: 0.8832\n",
            "Epoch 5/30\n",
            "420/420 [==============================] - 2s 4ms/step - loss: 0.4767 - accuracy: 0.8486 - val_loss: 0.3379 - val_accuracy: 0.8956\n",
            "Epoch 6/30\n",
            "420/420 [==============================] - 2s 5ms/step - loss: 0.4586 - accuracy: 0.8547 - val_loss: 0.3528 - val_accuracy: 0.8919\n",
            "Epoch 7/30\n",
            "420/420 [==============================] - 2s 5ms/step - loss: 0.4214 - accuracy: 0.8694 - val_loss: 0.2885 - val_accuracy: 0.9112\n",
            "Epoch 8/30\n",
            "420/420 [==============================] - 2s 5ms/step - loss: 0.3942 - accuracy: 0.8770 - val_loss: 0.3005 - val_accuracy: 0.9057\n",
            "Epoch 9/30\n",
            "420/420 [==============================] - 2s 6ms/step - loss: 0.3981 - accuracy: 0.8735 - val_loss: 0.2743 - val_accuracy: 0.9146\n",
            "Epoch 10/30\n",
            "420/420 [==============================] - 2s 4ms/step - loss: 0.3843 - accuracy: 0.8793 - val_loss: 0.2798 - val_accuracy: 0.9124\n",
            "Epoch 11/30\n",
            "420/420 [==============================] - 2s 4ms/step - loss: 0.3812 - accuracy: 0.8810 - val_loss: 0.2702 - val_accuracy: 0.9153\n",
            "Epoch 12/30\n",
            "420/420 [==============================] - 2s 5ms/step - loss: 0.3555 - accuracy: 0.8877 - val_loss: 0.2590 - val_accuracy: 0.9206\n",
            "Epoch 13/30\n",
            "420/420 [==============================] - 3s 8ms/step - loss: 0.3626 - accuracy: 0.8847 - val_loss: 0.2683 - val_accuracy: 0.9167\n",
            "Epoch 14/30\n",
            "420/420 [==============================] - 3s 7ms/step - loss: 0.3606 - accuracy: 0.8868 - val_loss: 0.2616 - val_accuracy: 0.9204\n",
            "Epoch 15/30\n",
            "420/420 [==============================] - 2s 4ms/step - loss: 0.3439 - accuracy: 0.8933 - val_loss: 0.2646 - val_accuracy: 0.9173\n",
            "Epoch 16/30\n",
            "420/420 [==============================] - 2s 4ms/step - loss: 0.3358 - accuracy: 0.8962 - val_loss: 0.2502 - val_accuracy: 0.9241\n",
            "Epoch 17/30\n",
            "420/420 [==============================] - 2s 5ms/step - loss: 0.3344 - accuracy: 0.8946 - val_loss: 0.2343 - val_accuracy: 0.9273\n",
            "Epoch 18/30\n",
            "420/420 [==============================] - 2s 4ms/step - loss: 0.3426 - accuracy: 0.8925 - val_loss: 0.2521 - val_accuracy: 0.9239\n",
            "Epoch 19/30\n",
            "420/420 [==============================] - 2s 5ms/step - loss: 0.3348 - accuracy: 0.8959 - val_loss: 0.2382 - val_accuracy: 0.9257\n",
            "Epoch 20/30\n",
            "420/420 [==============================] - 3s 6ms/step - loss: 0.3237 - accuracy: 0.8984 - val_loss: 0.2265 - val_accuracy: 0.9322\n",
            "Epoch 21/30\n",
            "420/420 [==============================] - 2s 5ms/step - loss: 0.3131 - accuracy: 0.9020 - val_loss: 0.2349 - val_accuracy: 0.9272\n",
            "Epoch 22/30\n",
            "420/420 [==============================] - 2s 5ms/step - loss: 0.3047 - accuracy: 0.9051 - val_loss: 0.2238 - val_accuracy: 0.9310\n",
            "Epoch 23/30\n",
            "420/420 [==============================] - 2s 4ms/step - loss: 0.3043 - accuracy: 0.9060 - val_loss: 0.2326 - val_accuracy: 0.9284\n",
            "Epoch 24/30\n",
            "420/420 [==============================] - 2s 4ms/step - loss: 0.3273 - accuracy: 0.8966 - val_loss: 0.2393 - val_accuracy: 0.9256\n",
            "Epoch 25/30\n",
            "420/420 [==============================] - 2s 5ms/step - loss: 0.3080 - accuracy: 0.9040 - val_loss: 0.2237 - val_accuracy: 0.9303\n",
            "Epoch 26/30\n",
            "420/420 [==============================] - 2s 5ms/step - loss: 0.2993 - accuracy: 0.9062 - val_loss: 0.2293 - val_accuracy: 0.9298\n",
            "Epoch 27/30\n",
            "420/420 [==============================] - 2s 5ms/step - loss: 0.2989 - accuracy: 0.9061 - val_loss: 0.2262 - val_accuracy: 0.9316\n",
            "Epoch 28/30\n",
            "420/420 [==============================] - 2s 4ms/step - loss: 0.3054 - accuracy: 0.9052 - val_loss: 0.2191 - val_accuracy: 0.9331\n",
            "Epoch 29/30\n",
            "420/420 [==============================] - 2s 5ms/step - loss: 0.3057 - accuracy: 0.9045 - val_loss: 0.2252 - val_accuracy: 0.9299\n",
            "Epoch 30/30\n",
            "420/420 [==============================] - 2s 5ms/step - loss: 0.2904 - accuracy: 0.9084 - val_loss: 0.2210 - val_accuracy: 0.9330\n"
          ]
        }
      ]
    },
    {
      "cell_type": "code",
      "source": [
        "plt.plot(history.history['accuracy'])\n",
        "plt.plot(history.history['val_accuracy'])\n",
        "plt.legend(['training','validation'])\n",
        "plt.show()"
      ],
      "metadata": {
        "colab": {
          "base_uri": "https://localhost:8080/",
          "height": 434
        },
        "id": "UaWy70AOQlXG",
        "outputId": "39c5a775-c741-477a-a842-76e4e6123550"
      },
      "execution_count": null,
      "outputs": [
        {
          "output_type": "display_data",
          "data": {
            "text/plain": [
              "<Figure size 640x480 with 1 Axes>"
            ],
            "image/png": "[encoded data removed]"
          },
          "metadata": {}
        }
      ]
    },
    {
      "cell_type": "code",
      "source": [],
      "metadata": {
        "id": "_dQEQDcTQ2mt"
      },
      "execution_count": null,
      "outputs": []
    }
  ]
}