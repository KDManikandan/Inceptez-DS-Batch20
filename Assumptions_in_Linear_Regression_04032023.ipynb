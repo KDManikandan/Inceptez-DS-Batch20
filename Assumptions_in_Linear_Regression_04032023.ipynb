{
  "nbformat": 4,
  "nbformat_minor": 0,
  "metadata": {
    "colab": {
      "provenance": [],
      "authorship_tag": "ABX9TyPigr1QNlw4/4nKfAolMbT9",
      "include_colab_link": true
    },
    "kernelspec": {
      "name": "python3",
      "display_name": "Python 3"
    },
    "language_info": {
      "name": "python"
    }
  },
  "cells": [
    {
      "cell_type": "markdown",
      "metadata": {
        "id": "view-in-github",
        "colab_type": "text"
      },
      "source": [
        "<a href=\"https://colab.research.google.com/github/KDManikandan/Inceptez-DS-Batch20/blob/main/Assumptions_in_Linear_Regression_04032023.ipynb\" target=\"_parent\"><img src=\"https://colab.research.google.com/assets/colab-badge.svg\" alt=\"Open In Colab\"/></a>"
      ]
    },
    {
      "cell_type": "code",
      "execution_count": null,
      "metadata": {
        "id": "FFGmAzqCXPtr"
      },
      "outputs": [],
      "source": []
    },
    {
      "cell_type": "markdown",
      "source": [
        "# **Assumptions in Linear Regression**\n",
        "\n",
        "What is Linear Regression?\n",
        "\n",
        "***Linear regression*** is a straight line that attempts to predict any relationship between two points. However, the prediction should be more on a statistical relationship and not a deterministic one. This quote should explain the concept of linear regression\n",
        "\n",
        "# “There are many people who are together but not in love, but there are more people who are in love but not together.”\n",
        "\n",
        "**Simple Linear Regression**\n",
        "\n",
        "\n",
        "*   In simple linear regression, you have only two variables.\n",
        "*   One is the predictor or the independent variable, whereas the other is the dependent variable, also known as the response.\n",
        "*   A linear regression aims to find a statistical relationship between the two variables.\n",
        "*   There is a difference between a statistical relationship and a deterministic relationship. For example, if I say that water boils at 100 degrees Centigrade, you can say that 100 degrees Centigrade is equal to 212 degrees Fahrenheit.\n",
        "*   Thus, there is a deterministic relationship between these two variables. You have a set formula to convert Centigrade into Fahrenheit, and vice versa.\n",
        "*   You define a statistical relationship when there is no such formula to determine the relationship between two variables. For example, there is no formula to compare the height and weight of a person. However, you can draw a linear regression attempting to connect these two variables.\n",
        "\n",
        "**Let's look out the Assumptions of Linear Regression by an example.**\n",
        "\n",
        "Laxmi is a statistically-minded mentor and he assigns a small task to each of his 50 students.\n",
        "\n",
        "There are around ten days left for the exams. He asks each student to calculate and maintain a record of the number of hours you study, sleep, play, and engage in social media every day and report to him the next morning.\n",
        "\n",
        "All the students diligently report the information to him. At the end of the examinations, the students get their results. He now plots a graph linking each of these variables to the number of marks obtained by each student.\n",
        "\n",
        "It is a simple linear regression when you compare two variables, such as the number of hours studied to the marks obtained by each student.\n",
        "\n",
        "When you increase the number of variables by including the number of hours slept and engaged in social media, you have multiple variables. It explains the concept of assumptions of multiple linear regression. Naturally, the line will be different.\n",
        "\n",
        "**1. The Two Variables Should be in a Linear Relationship**\n",
        "\n",
        "The first assumption of simple linear regression is that the two variables in question should have a linear relationship.\n",
        "\n",
        "The example of Laxmi plotting the number of hours a student put in and the amount of marks the student got is a classic example of a linear relationship.\n",
        "\n",
        "Yes, one can say that putting in more hours of study does not necessarily guarantee higher marks, but the relationship is still a linear one. There will always be many points above or below the line of regression. These points that lie outside the line of regression are the outliers.\n",
        "\n",
        "The assumption of linear regression extends to the fact that the regression is sensitive to outlier effects. This assumption is also one of the key assumptions of multiple linear regression.\n",
        "\n",
        "**2. All the Variables Should be Normal distribution**\n",
        "\n",
        "It suggests that the linear combination of the random variables should have a normal distribution. The same example discussed above holds good here, as well.\n",
        "\n",
        "The students reported their activities like studying, sleeping, and engaging in social media. Now, all these activities have a relationship with each other. If you study for a more extended period, you sleep for less time. Similarly, extended hours of study affects the time you engage in social media.\n",
        "\n",
        "**3. There Should be No Multicollinearity in the Data**\n",
        "\n",
        "Another critical assumption of multiple linear regression is that there should not be much multicollinearity in the data. Such a situation can arise when the independent variables are too highly correlated with each other.\n",
        "\n",
        "In our example, the variable data has a relationship, but they do not have much collinearity. There could be students who would have secured higher marks in spite of engaging in social media for a longer duration than the others.\n",
        "\n",
        "Similarly, there could be students with lesser scores in spite of sleeping for lesser time. The point is that there is a relationship but not a multicollinear one.\n",
        "\n",
        "If you still find some amount of multicollinearity in the data, the best solution is to remove the variables that have a high variance inflation factor.\n",
        "\n",
        "This assumption of linear regression is a critical one. \n",
        "\n",
        "**4. There Should be Homoscedasticity Among the Data**\n",
        "\n",
        "Finally, the fourth assumption of a classical linear regression model is that there should be homoscedasticity among the data. The scatterplot graph is again the ideal way to determine the homoscedasticity. The data is said to homoscedastic when the residuals are equal across the line of regression. In other words, the variance is equal.\n",
        "\n",
        "The Breusch-PaganTest is the ideal one to determine homoscedasticity. The Goldfield-Quandt Test is useful for deciding heteroscedasticity.\n",
        "\n",
        "\n",
        ":)\n",
        "website courtesy\n",
        "https://www.digitalvidya.com/blog/assumptions-of-linear-regression/\n",
        "\n",
        "\n"
      ],
      "metadata": {
        "id": "peSBwFy7d4mn"
      }
    }
  ]
}